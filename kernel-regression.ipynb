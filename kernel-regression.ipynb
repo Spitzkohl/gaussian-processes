{
 "cells": [
  {
   "cell_type": "markdown",
   "metadata": {},
   "source": [
    "# kernel regression"
   ]
  },
  {
   "cell_type": "code",
   "execution_count": 25,
   "metadata": {},
   "outputs": [
    {
     "ename": "NameError",
     "evalue": "name 'data' is not defined",
     "output_type": "error",
     "traceback": [
      "\u001b[0;31m---------------------------------------------------------------------------\u001b[0m",
      "\u001b[0;31mNameError\u001b[0m                                 Traceback (most recent call last)",
      "\u001b[0;32m<ipython-input-25-7cc9cb9d98cc>\u001b[0m in \u001b[0;36m<module>\u001b[0;34m()\u001b[0m\n\u001b[1;32m      4\u001b[0m \u001b[0;34m\u001b[0m\u001b[0m\n\u001b[1;32m      5\u001b[0m \u001b[0;34m\u001b[0m\u001b[0m\n\u001b[0;32m----> 6\u001b[0;31m \u001b[0;32mdef\u001b[0m \u001b[0mquery\u001b[0m\u001b[0;34m(\u001b[0m\u001b[0mpoint\u001b[0m\u001b[0;34m,\u001b[0m \u001b[0mdata\u001b[0m\u001b[0;34m=\u001b[0m\u001b[0mdata\u001b[0m\u001b[0;34m,\u001b[0m \u001b[0mkernel\u001b[0m\u001b[0;34m=\u001b[0m\u001b[0mrbf\u001b[0m\u001b[0;34m)\u001b[0m\u001b[0;34m:\u001b[0m\u001b[0;34m\u001b[0m\u001b[0m\n\u001b[0m\u001b[1;32m      7\u001b[0m     \u001b[0mweighted_sum\u001b[0m \u001b[0;34m=\u001b[0m \u001b[0;36m0\u001b[0m\u001b[0;34m\u001b[0m\u001b[0m\n\u001b[1;32m      8\u001b[0m     \u001b[0mtotal_weight\u001b[0m \u001b[0;34m=\u001b[0m \u001b[0;36m0\u001b[0m\u001b[0;34m\u001b[0m\u001b[0m\n",
      "\u001b[0;31mNameError\u001b[0m: name 'data' is not defined"
     ]
    }
   ],
   "source": [
    "# rbf kernel\n",
    "def rbf(point, neighbor, sigma=.5):\n",
    "    return np.exp(-(point - neighbor)**2 / (2 * sigma**2))\n",
    "\n",
    "\n",
    "def query(point, data=data, kernel=rbf):\n",
    "    weighted_sum = 0\n",
    "    total_weight = 0\n",
    "    for x, y in data.items():\n",
    "        if x != point:\n",
    "            weight = kernel(point=point, neighbor=x)\n",
    "            weighted_sum += weight * y\n",
    "            total_weight += weight\n",
    "    return weighted_sum / total_weight"
   ]
  },
  {
   "cell_type": "code",
   "execution_count": null,
   "metadata": {},
   "outputs": [],
   "source": [
    "y_approx = [query(xx) for xx in x]"
   ]
  },
  {
   "cell_type": "code",
   "execution_count": null,
   "metadata": {},
   "outputs": [],
   "source": [
    "plt.figure(figsize=(10, 6))\n",
    "plt.ylim(-10, 10)\n",
    "plt.xlim(-10, 10)\n",
    "plt.plot(x, y_approx)\n",
    "plt.plot(x, y_true)\n",
    "plt.scatter(x, noisy_y_true, alpha=.1)"
   ]
  },
  {
   "cell_type": "raw",
   "metadata": {},
   "source": [
    "# Gaussian processes\n",
    "- imagine we have this linear function [1, x]^T * [w1, w2]\n",
    "- if the prior over [w1, w2] is gaussian, than because the function itself is given by a linear map, and gaussians are \"closed under linear maps\", we know the prior over the function evaluations (the values we get when evaluating one of these functions (as parameterized by a single draw from the weight prior)) will be gaussian as well\n",
    "- in our prior over the function evaluations, well, these evaluations will occur at all points X at which we'd like to evaluate our function (duh). perhaps, it could be the range of the x-axis we're interested in\n",
    "- complicated distribution over the function evaluations has just 2 degrees of freedom\n",
    "- at each of the individual x values on the x-axis, we can *easily* (as i have in my notes, e.g. just plucking out the things we need) compute the marginal distribution over the corresponding y values. this is just a 1d gaussian!\n",
    "- to figure out how to compute the posterior over the function values: 35:00 of https://www.youtube.com/watch?v=50Vgw11qn0o&list=WL&index=34&t=3557s\n"
   ]
  }
 ],
 "metadata": {
  "kernelspec": {
   "display_name": "Python 3",
   "language": "python",
   "name": "python3"
  },
  "language_info": {
   "codemirror_mode": {
    "name": "ipython",
    "version": 3
   },
   "file_extension": ".py",
   "mimetype": "text/x-python",
   "name": "python",
   "nbconvert_exporter": "python",
   "pygments_lexer": "ipython3",
   "version": "3.6.2"
  }
 },
 "nbformat": 4,
 "nbformat_minor": 2
}
